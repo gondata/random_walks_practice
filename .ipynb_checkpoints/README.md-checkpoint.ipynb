{
 "cells": [
  {
   "cell_type": "markdown",
   "id": "7b0ebe2f",
   "metadata": {},
   "source": [
    "# Random Plot Generation"
   ]
  },
  {
   "cell_type": "markdown",
   "id": "98502a9c",
   "metadata": {},
   "source": [
    "This script generates three different random plots using the matplotlib library in Python. The first plot shows a series of random integers generated using randint, while the second plot shows a series of random values generated using randrange. The third plot generates a random walk, which is a series of random steps that accumulate over time. The length of the walk and the seed value used to generate the plot can be passed as command line arguments."
   ]
  },
  {
   "cell_type": "markdown",
   "id": "f1820a84",
   "metadata": {},
   "source": [
    "## Requirements"
   ]
  },
  {
   "cell_type": "markdown",
   "id": "94496540",
   "metadata": {},
   "source": [
    "- Python 3\n",
    "- Matplotlib"
   ]
  },
  {
   "cell_type": "markdown",
   "id": "99093fc2",
   "metadata": {},
   "source": [
    "## Usage"
   ]
  },
  {
   "cell_type": "markdown",
   "id": "289fd53f",
   "metadata": {},
   "source": [
    "```\n",
    "python random_plot.py <seed_value> <length_of_walk>\n",
    "\n",
    "```"
   ]
  },
  {
   "cell_type": "markdown",
   "id": "daf49364",
   "metadata": {},
   "source": [
    "## Examples"
   ]
  },
  {
   "cell_type": "markdown",
   "id": "15b656f6",
   "metadata": {},
   "source": [
    "Generating the third plot using a seed value of 1 and a walk length of 50:"
   ]
  },
  {
   "cell_type": "markdown",
   "id": "19d7c3b5",
   "metadata": {},
   "source": [
    "```\n",
    "python random_plot.py 1 50\n",
    "\n",
    "```"
   ]
  },
  {
   "cell_type": "markdown",
   "id": "ec65767e",
   "metadata": {},
   "source": [
    "## Contributing"
   ]
  },
  {
   "cell_type": "markdown",
   "id": "a8153d68",
   "metadata": {},
   "source": [
    "Contributions are welcome. Please feel free to submit a pull request or open an issue for any suggestions or bug reports."
   ]
  }
 ],
 "metadata": {
  "kernelspec": {
   "display_name": "Python 3 (ipykernel)",
   "language": "python",
   "name": "python3"
  },
  "language_info": {
   "codemirror_mode": {
    "name": "ipython",
    "version": 3
   },
   "file_extension": ".py",
   "mimetype": "text/x-python",
   "name": "python",
   "nbconvert_exporter": "python",
   "pygments_lexer": "ipython3",
   "version": "3.9.12"
  }
 },
 "nbformat": 4,
 "nbformat_minor": 5
}
